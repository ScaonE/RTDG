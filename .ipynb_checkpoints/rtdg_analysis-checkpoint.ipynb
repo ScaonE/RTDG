{
 "cells": [
  {
   "cell_type": "markdown",
   "metadata": {
    "collapsed": true
   },
   "source": [
    "# Homemade \"taxonomic assignment\" with blast+"
   ]
  },
  {
   "cell_type": "markdown",
   "metadata": {},
   "source": [
    "Goal : Sort contigs based on plant hit.<br>\n",
    "Input : Blastn TSV (custom outfmt 6 with staxids).<br>\n",
    "Output : FASTA files, either containing contigs matching plant or those not matching plant.<br>\n",
    "https://docs.google.com/spreadsheets/d/1hYWprws5gd2-W2vgMux2lVAtXx5TVm4IenuwZr6DcF4/edit#gid=0"
   ]
  },
  {
   "cell_type": "markdown",
   "metadata": {},
   "source": [
    "## Summary"
   ]
  },
  {
   "cell_type": "markdown",
   "metadata": {},
   "source": [
    "0) Existing tools <br>\n",
    "\n",
    "\n",
    "1. Data <br>\n",
    "1.1. Existing transcriptomes <br>\n",
    "1.2. UGMA data <br>\n",
    "2. Blast+ with taxonomic infos <br>\n",
    "3. Launch blastn with custom outfmt 6 <br>\n",
    "4. Parse blastn result <br>"
   ]
  },
  {
   "cell_type": "markdown",
   "metadata": {},
   "source": [
    "## 0) Existing tools (not used here)"
   ]
  },
  {
   "cell_type": "markdown",
   "metadata": {},
   "source": [
    "- http://qiime.org/scripts/assign_taxonomy.html <br>\n",
    "- https://www.ncbi.nlm.nih.gov/pmc/articles/PMC4186660/"
   ]
  },
  {
   "cell_type": "markdown",
   "metadata": {},
   "source": [
    "## 1) Data"
   ]
  },
  {
   "cell_type": "markdown",
   "metadata": {},
   "source": [
    "### 1.1) Existing transcriptomes"
   ]
  },
  {
   "cell_type": "code",
   "execution_count": 1,
   "metadata": {
    "code_folding": [
     0
    ],
    "collapsed": true
   },
   "outputs": [],
   "source": [
    "#### Code ###\n",
    "cd ~/Desktop/RTDG/BISCEm/Data;"
   ]
  },
  {
   "cell_type": "code",
   "execution_count": null,
   "metadata": {
    "code_folding": [
     0
    ],
    "collapsed": false
   },
   "outputs": [],
   "source": [
    "#### Code ###\n",
    "# PineRefSeq (2008)\n",
    "axel -q http://dendrome.ucdavis.edu/ftp/Genome_Data/genome/\\\n",
    "pinerefseq/Psme/v1.0/gene_models/Psme.allgenes.transcripts.fasta;\n",
    "mv Psme.allgenes.transcripts.fasta pinerefseq.fasta;\n",
    "pigz pinerefseq.fasta;\n",
    "\n",
    "# Lorenz et al. (2012)\n",
    "# lorenz_mira.fasta.gz, lorenz_nblr.fasta.gz & lorenz_ngen.fasta.gz\n",
    "\n",
    "# Müller et al. (2012)\n",
    "# muller.fasta.gz\n",
    "\n",
    "# Howe et al. (2013)\n",
    "axel -q ftp://ftp.ncbi.nlm.nih.gov/sra/wgs_aux/GA/EK/GAEK01/GAEK01.1.fsa_nt.gz;\n",
    "mv GAEK01.1.fsa_nt.gz howe.fasta.gz;\n",
    "\n",
    "# Little et al. (2016)\n",
    "axel -q ftp://ftp.ncbi.nlm.nih.gov/sra/wgs_aux/GA/ZW/GAZW02/GAZW02.1.fsa_nt.gz;\n",
    "axel -q ftp://ftp.ncbi.nlm.nih.gov/sra/wgs_aux/GA/ZW/GAZW02/GAZW02.2.fsa_nt.gz;\n",
    "cat GAZW02.1.fsa_nt.gz GAZW02.2.fsa_nt.gz > little.fasta.gz;\n",
    "rm GAZW02.1.fsa_nt.gz GAZW02.2.fsa_nt.gz;\n",
    "\n",
    "# Hess et al. (2016)\n",
    "axel -q ftp://ftp.ncbi.nlm.nih.gov/geo/series/GSE73nnn/GSE73420/suppl/GSE73420_PUT_set.fasta.gz;\n",
    "mv GSE73420_PUT_set.fasta.gz hess.fasta.gz;\n",
    "\n",
    "# Merge of those 6 transcriptomes with cdhitest (0.99%)\n",
    "# all_ref_cdhitest.fasta.gz"
   ]
  },
  {
   "cell_type": "markdown",
   "metadata": {},
   "source": [
    "### 1.2) UGMA data"
   ]
  },
  {
   "cell_type": "code",
   "execution_count": null,
   "metadata": {
    "code_folding": [
     0
    ],
    "collapsed": false
   },
   "outputs": [],
   "source": [
    "#### Code ###\n",
    "ls -1 trinity*;"
   ]
  },
  {
   "cell_type": "markdown",
   "metadata": {},
   "source": [
    "## 2) Blast+ with taxonomic infos"
   ]
  },
  {
   "cell_type": "markdown",
   "metadata": {},
   "source": [
    "### Get taxdb for blast+ :"
   ]
  },
  {
   "cell_type": "code",
   "execution_count": null,
   "metadata": {
    "code_folding": [
     0
    ],
    "collapsed": true
   },
   "outputs": [],
   "source": [
    "#### Code ###\n",
    "wget ftp://ftp.ncbi.nlm.nih.gov/blast/db/taxdb.tar.gz;\n",
    "wget ftp://ftp.ncbi.nlm.nih.gov/blast/db/taxdb.tar.gz.md5;\n",
    "for f in *.md5;\n",
    "do tmp=$(md5sum -c $f);\n",
    "   if [[ $tmp == *\": OK\" ]];\n",
    "   then tar -zxvf  ${f%.*};\n",
    "        rm $f ${f%.*};\n",
    "   fi;\n",
    "done;"
   ]
  },
  {
   "cell_type": "markdown",
   "metadata": {},
   "source": [
    "Ps : Don't forget to move tax files in the same dir as your other databases (nt, nr, etc...)"
   ]
  },
  {
   "cell_type": "markdown",
   "metadata": {},
   "source": [
    "### Set BLASTDB variable :"
   ]
  },
  {
   "cell_type": "markdown",
   "metadata": {},
   "source": [
    "edit your ~/.bashrc with :"
   ]
  },
  {
   "cell_type": "code",
   "execution_count": null,
   "metadata": {
    "code_folding": [
     0
    ],
    "collapsed": true
   },
   "outputs": [],
   "source": [
    "#### Code ###\n",
    "export BLASTDB = 'your_path_to_blast+_dbs'"
   ]
  },
  {
   "cell_type": "markdown",
   "metadata": {},
   "source": [
    "## 3) Launch blastn with custom outfmt 6"
   ]
  },
  {
   "cell_type": "code",
   "execution_count": null,
   "metadata": {
    "code_folding": [
     0
    ],
    "collapsed": true
   },
   "outputs": [],
   "source": [
    "#### Code ###\n",
    "biscem='/home/erwann/Desktop/RTDG/BISCEm';\n",
    "cd $biscem/Data;"
   ]
  },
  {
   "cell_type": "code",
   "execution_count": null,
   "metadata": {
    "code_folding": [
     0
    ],
    "collapsed": true
   },
   "outputs": [],
   "source": [
    "#### Code ###\n",
    "blast='/home/erwann/Software/Ncbi_blast_2.6.0+/bin';\n",
    "db='/home/erwann/Software/ncbi-blast-2.5.0+/blastdb';\n",
    "for id in 'hess';\n",
    "do unpigz $id.fasta.gz;\n",
    "   $blast/blastn -query $id.fasta \\\n",
    "                 -db $db/nt \\\n",
    "                 -out $biscem/Output/$id'_vs_nt.tsv' \\\n",
    "                 -outfmt \"6 qseqid sseqid pident length mismatch gapopen qstart qend sstart send \\\n",
    "                          evalue bitscore qlen slen saccver staxids sskingdoms sblastnames stitle\" \\\n",
    "                 -num_threads 8 \\\n",
    "                 -culling_limit 1;\n",
    "   pigz $id.fasta;\n",
    "done;"
   ]
  },
  {
   "cell_type": "markdown",
   "metadata": {},
   "source": [
    "## 4) Parse blastn result"
   ]
  },
  {
   "cell_type": "markdown",
   "metadata": {},
   "source": [
    "Nb : The idea on how to check if a contig matched to plant with the staxids field came from this post : https://www.biostars.org/p/163595/#163603."
   ]
  },
  {
   "cell_type": "markdown",
   "metadata": {},
   "source": [
    "What it does basically is :<br>\n",
    "\"staxids\" allows us to query the NCBI taxonomy database for the lineage of a taxon information with the tool eutils.<br>\n",
    "We can then parse this eutils xml result to check if kingdom <=> \"Viridiplantae\"."
   ]
  },
  {
   "cell_type": "markdown",
   "metadata": {},
   "source": [
    "Below, a dummy example for staxids = 3357 (Pseudotsuga menziesii <=> Douglas) :"
   ]
  },
  {
   "cell_type": "code",
   "execution_count": null,
   "metadata": {
    "code_folding": [
     0
    ],
    "collapsed": false
   },
   "outputs": [],
   "source": [
    "#### Code ###\n",
    "wget -q 'https://eutils.ncbi.nlm.nih.gov/entrez/eutils/efetch.fcgi?db=taxonomy&id=3357&retype=xml' \\\n",
    "     -O - | grep -B 1 '>kingdom<' | grep -v '>kingdom<' | grep -o '>.*<' | sed 's/[<>]//g';"
   ]
  },
  {
   "cell_type": "markdown",
   "metadata": {},
   "source": [
    "### Using custom script"
   ]
  },
  {
   "cell_type": "markdown",
   "metadata": {},
   "source": [
    "Content of sort_plant_hit.py :"
   ]
  },
  {
   "cell_type": "code",
   "execution_count": null,
   "metadata": {
    "code_folding": [
     0
    ],
    "collapsed": true
   },
   "outputs": [],
   "source": [
    "#### Code ###\n",
    "#!/usr/bin/env python\n",
    "import os\n",
    "import sys\n",
    "import timeit\n",
    "\n",
    "usage = '\\t --------\\n' \\\n",
    "        '\\t| usage  : python sort_plant_hit.py f1 f2\\n' \\\n",
    "        '\\t| input  : f1 = blastn.tsv\\n' \\\n",
    "        '\\t| input  : f2 = seqs.fasta\\n' \\\n",
    "        '\\t| output : f2_plant_hit.fasta\\n' \\\n",
    "        '\\t| output : f2_non_plant_hit.fasta\\n' \\\n",
    "        '\\t| output : f2_no_hit.fasta\\n' \\\n",
    "        '\\t --------'\n",
    "\n",
    "if len(sys.argv) != 3:\n",
    "    print(usage)\n",
    "    sys.exit()\n",
    "\n",
    "##############\n",
    "### Step 1 ###\n",
    "##############\n",
    "print('\\n\\tStep 1) Retrieve taxonomic infos for each staxids with efetch')\n",
    "t0 = timeit.default_timer()\n",
    "# For each line in TSV (f1), fill staxids_set\n",
    "staxids_set = set()\n",
    "with open(sys.argv[1], 'r') as tsv:\n",
    "    for row in tsv:\n",
    "        columns = row.split('\\t')\n",
    "        # Sometimes you have more than one staxids for an entry\n",
    "        staxids = columns[15].split(';')\n",
    "        for i in staxids:\n",
    "            staxids_set.add(i)\n",
    "\n",
    "# Use staxids_set as query with efetch & store result\n",
    "# Don't give more than let's say 500 entries at a time to avoid errors\n",
    "staxids_li = list(staxids_set)\n",
    "staxids_sub_li = [staxids_li[x:x + 500]\n",
    "                  for x in range(0, len(staxids_li), 500)]\n",
    "efetch_li = []\n",
    "for item in staxids_sub_li:\n",
    "    staxids_input = ','.join(str(z) for z in item)\n",
    "    # Details about \"cmd\" : https://www.biostars.org/p/163595/#271497\n",
    "    cmd = ('efetch -db taxonomy -id ' + staxids_input + ' -format xml | xtract '\n",
    "           '-pattern Taxon -sep \\'@\\' -element TaxId,ScientificName -division '\n",
    "           'LineageEx -group Taxon -if Rank -equals superkingdom -or Rank '\n",
    "           '-equals kingdom -or Rank -equals phylum -or Rank -equals class'\n",
    "           ' -or Rank -equals order -or Rank -equals family -or Rank -equals'\n",
    "           ' genus -sep \\'@\\' -element Rank,ScientificName')\n",
    "    cmd_result = os.popen(cmd).read()\n",
    "    cmd_result_split = cmd_result.split('\\n')\n",
    "    for i in cmd_result_split:\n",
    "        efetch_li.append(i)\n",
    "\n",
    "# Create a dict associating key=staxid with value=list=tax_infos\n",
    "taxonomy_dic = {}\n",
    "for line in efetch_li:\n",
    "    field = line.split('\\t')\n",
    "    tax_ids = field[0].split('@')\n",
    "    # Sometimes more than one staxid is associated to an entry\n",
    "    # e.g. \"170850@3666@Cucurbita hybrid cultivar\"\n",
    "    for i in tax_ids[:-1]:\n",
    "        taxonomy_dic.setdefault(i, [None, None, None, None, None, None, None])\n",
    "        for item in field:\n",
    "            if 'superkingdom@' in item:\n",
    "                taxonomy_dic[i][0] = item.split('@')[-1]\n",
    "            elif 'kingdom@' in item:\n",
    "                taxonomy_dic[i][1] = item.split('@')[-1]\n",
    "            elif 'phylum@' in item:\n",
    "                taxonomy_dic[i][2] = item.split('@')[-1]\n",
    "            elif 'class@' in item:\n",
    "                taxonomy_dic[i][3] = item.split('@')[-1]\n",
    "            elif 'order@' in item:\n",
    "                taxonomy_dic[i][4] = item.split('@')[-1]\n",
    "            elif 'family@' in item:\n",
    "                taxonomy_dic[i][5] = item.split('@')[-1]\n",
    "            elif 'genus@' in item:\n",
    "                taxonomy_dic[i][6] = item.split('@')[-1]\n",
    "print('\\t\\t=> ' + str(round(timeit.default_timer() - t0, 3)) + ' seconds')\n",
    "\n",
    "##############\n",
    "### Step 2 ###\n",
    "##############\n",
    "print('\\tStep 2) Assign contigs best hits to plant or non-plant')\n",
    "t0 = timeit.default_timer()\n",
    "# Assign contigs best hits to plant or non-plant based on taxonomy_dic infos\n",
    "qseqid_set, viridi_hit_set, non_viridi_hit_set = set(), set(), set()\n",
    "with open(sys.argv[1], 'r') as tsv:\n",
    "    for row in tsv:\n",
    "        columns = row.split('\\t')\n",
    "        qseqid, staxids = columns[0], columns[15].split(';')[0]\n",
    "        # Check if we encounter qseqid for the first time <=> best hit\n",
    "        if not qseqid in qseqid_set:\n",
    "            if taxonomy_dic[staxids][1] == 'Viridiplantae':\n",
    "                viridi_hit_set.add(qseqid)\n",
    "            else:\n",
    "                non_viridi_hit_set.add(qseqid)\n",
    "        qseqid_set.add(qseqid)\n",
    "print('\\t\\t=> ' + str(round(timeit.default_timer() - t0, 3)) + ' seconds')\n",
    "\n",
    "##############\n",
    "### Step 3 ###\n",
    "##############\n",
    "print('\\tStep 3) Find contigs with no hits')\n",
    "t0 = timeit.default_timer()\n",
    "# Read initial FASTA (f2) & check intersection with viridi_hit_set & non_viridi_hit_set\n",
    "# We can deduce contig with not hit from this intersection\n",
    "no_hit_set = set()\n",
    "with open(sys.argv[2], 'r') as fa:\n",
    "    for line in fa:\n",
    "        if line.startswith('>'):\n",
    "            line = line.lstrip('>')\n",
    "            fields = line.split()\n",
    "            no_hit_set.add(fields[0])\n",
    "\n",
    "no_hit_set = no_hit_set - viridi_hit_set\n",
    "no_hit_set = no_hit_set - non_viridi_hit_set\n",
    "print('\\t\\t=> ' + str(round(timeit.default_timer() - t0, 3)) + ' seconds')\n",
    "\n",
    "##############\n",
    "### Step 4 ###\n",
    "##############\n",
    "print('\\tStep 4) Create output files')\n",
    "t0 = timeit.default_timer()\n",
    "# Create input files (sequence IDs list) for seqtk\n",
    "file_2 = sys.argv[2].split('/')\n",
    "sample = file_2[-1].split('.')[0]\n",
    "with open(sample + '_plant_hit.temp', 'w') as out:\n",
    "    for item in viridi_hit_set:\n",
    "        out.write(item + \"\\n\")\n",
    "with open(sample + '_non_plant_hit.temp', 'w') as out:\n",
    "    for item in non_viridi_hit_set:\n",
    "        out.write(item + \"\\n\")\n",
    "with open(sample + '_no_hit.temp', 'w') as out:\n",
    "    for item in no_hit_set:\n",
    "        out.write(item + \"\\n\")\n",
    "\n",
    "# Create output files (plant_hit, non-plant_hit, no-hit) with seqtk\n",
    "os.system('seqtk subseq ' + sys.argv[2] + ' ' + sample +\n",
    "          '_plant_hit.temp > ' + sample + '_plant_hit.fasta')\n",
    "os.system('seqtk subseq ' + sys.argv[2] + ' ' + sample +\n",
    "          '_non_plant_hit.temp > ' + sample + '_non_plant_hit.fasta')\n",
    "os.system('seqtk subseq ' + sys.argv[2] + ' ' + sample +\n",
    "          '_no_hit.temp > ' + sample + '_no_hit.fasta')\n",
    "os.system('rm *.temp')\n",
    "print('\\t\\t=> ' + str(round(timeit.default_timer() - t0, 3)) + ' seconds')"
   ]
  },
  {
   "cell_type": "markdown",
   "metadata": {},
   "source": [
    "What it does :"
   ]
  },
  {
   "cell_type": "markdown",
   "metadata": {},
   "source": [
    "Take the blastn TVS file and the contig FASTA file as input.<br>\n",
    "Then check for each contig best hit if kingdom <=> \"Viridiplantae\".<br>\n",
    "If so, we consider the contig to have a plant hit.<br>\n",
    "Else, we consider the contig to have a non-plant hit.<br>\n",
    "Then, iterate other the contig file to collect contigs name & check intersection with contigs having plant / non-plant hits. This allow to determine contigs with no hits.<br>\n",
    "Finally, output 3 FASTA files : contigs with plant hit, with non-plant hit & with no hit."
   ]
  },
  {
   "cell_type": "markdown",
   "metadata": {},
   "source": [
    "Launch the script :"
   ]
  },
  {
   "cell_type": "code",
   "execution_count": null,
   "metadata": {
    "code_folding": [
     0
    ],
    "collapsed": true
   },
   "outputs": [],
   "source": [
    "#### Code ###\n",
    "biscem='/home/erwann/Desktop/RTDG/BISCEm';\n",
    "cd $biscem/Output;"
   ]
  },
  {
   "cell_type": "code",
   "execution_count": null,
   "metadata": {
    "code_folding": [
     0
    ],
    "collapsed": true
   },
   "outputs": [],
   "source": [
    "#### Code ###\n",
    "for id in 'hess';\n",
    "do unpigz $biscem/Data/$id.fasta.gz;\n",
    "   python $biscem/Script/sort_plant_hit.py $id'_vs_nt.tsv' $biscem/Data/$id.fasta;\n",
    "   pigz $biscem/Data/$id.fasta;\n",
    "done;"
   ]
  },
  {
   "cell_type": "markdown",
   "metadata": {},
   "source": [
    "Check that the sum of our 3 output FASTA files is equal to the input FASTA file :"
   ]
  },
  {
   "cell_type": "code",
   "execution_count": null,
   "metadata": {
    "code_folding": [
     0
    ],
    "collapsed": false
   },
   "outputs": [],
   "source": [
    "#### Code ###\n",
    "for id in 'hess';\n",
    "do grep -c '^>' $id*.fasta;\n",
    "done;"
   ]
  },
  {
   "cell_type": "markdown",
   "metadata": {},
   "source": [
    "Compute basic stats for output FASTA files :"
   ]
  },
  {
   "cell_type": "code",
   "execution_count": null,
   "metadata": {
    "code_folding": [
     0
    ],
    "collapsed": true
   },
   "outputs": [],
   "source": [
    "#### Code ###\n",
    "for f in  hess*.fasta;\n",
    "do echo $f; perl ../Script/assemblyStats.pl $f;\n",
    "done;"
   ]
  }
 ],
 "metadata": {
  "anaconda-cloud": {},
  "kernelspec": {
   "display_name": "Bash",
   "language": "bash",
   "name": "bash"
  },
  "language_info": {
   "codemirror_mode": "shell",
   "file_extension": ".sh",
   "mimetype": "text/x-sh",
   "name": "bash"
  }
 },
 "nbformat": 4,
 "nbformat_minor": 1
}
